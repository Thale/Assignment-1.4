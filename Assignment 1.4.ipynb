{
 "cells": [
  {
   "cell_type": "markdown",
   "metadata": {},
   "source": [
    "#Write a Python program to find the volume of a sphere with diameter 12 cm.\n",
    "Formula: V=4/3 * π * r\n",
    "3\n",
    "\n",
    "NOTE:​ ​The​ ​solution​ ​shared​ ​through​ ​Github​ ​directory​ ​should​ ​contain​ ​the​ ​source\n",
    "code​ ​used​ ​and​ ​screenshot​ ​of​ ​the​ ​output.Write a Python program to find the volume of a sphere with diameter 12 cm.\n",
    "Formula: V=4/3 * π * r\n",
    "3\n",
    "\n",
    "NOTE:​ ​The​ ​solution​ ​shared​ ​through​ ​Github​ ​directory​ ​should​ ​contain​ ​the​ ​source\n",
    "code​ ​used​ ​and​ ​screenshot​ ​of​ ​the​ ​output. \"\"\"\n"
   ]
  },
  {
   "cell_type": "code",
   "execution_count": 5,
   "metadata": {},
   "outputs": [
    {
     "name": "stdout",
     "output_type": "stream",
     "text": [
      "904.7786842338603\n"
     ]
    }
   ],
   "source": [
    "import numpy as np\n",
    "\n",
    "d = 12\n",
    "\n",
    "pi = np.pi\n",
    "#pi\n",
    "r = (d/2) **3\n",
    "volume = 4/3 * pi * r \n",
    "print(volume)"
   ]
  },
  {
   "cell_type": "code",
   "execution_count": null,
   "metadata": {},
   "outputs": [],
   "source": []
  },
  {
   "cell_type": "code",
   "execution_count": null,
   "metadata": {},
   "outputs": [],
   "source": []
  },
  {
   "cell_type": "markdown",
   "metadata": {},
   "source": [
    "##Numpy Operations"
   ]
  },
  {
   "cell_type": "code",
   "execution_count": null,
   "metadata": {},
   "outputs": [],
   "source": []
  }
 ],
 "metadata": {
  "kernelspec": {
   "display_name": "Python 3",
   "language": "python",
   "name": "python3"
  },
  "language_info": {
   "codemirror_mode": {
    "name": "ipython",
    "version": 3
   },
   "file_extension": ".py",
   "mimetype": "text/x-python",
   "name": "python",
   "nbconvert_exporter": "python",
   "pygments_lexer": "ipython3",
   "version": "3.6.4"
  }
 },
 "nbformat": 4,
 "nbformat_minor": 2
}
